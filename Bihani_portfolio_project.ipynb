{
 "cells": [
  {
   "cell_type": "code",
   "execution_count": 1,
   "metadata": {},
   "outputs": [],
   "source": [
    "# portfolio Project\n",
    "import boto3\n",
    "import pandas as pd\n",
    "import io"
   ]
  },
  {
   "cell_type": "code",
   "execution_count": 2,
   "metadata": {},
   "outputs": [
    {
     "name": "stdout",
     "output_type": "stream",
     "text": [
      "   ID       Country  Age  Gender Tobacco Use Alcohol Consumption  \\\n",
      "0   1         Italy   36  Female         Yes                 Yes   \n",
      "1   2         Japan   64    Male         Yes                 Yes   \n",
      "2   3            UK   37  Female          No                 Yes   \n",
      "3   4     Sri Lanka   55    Male         Yes                 Yes   \n",
      "4   5  South Africa   68    Male          No                  No   \n",
      "\n",
      "  HPV Infection Betel Quid Use Chronic Sun Exposure Poor Oral Hygiene  ...  \\\n",
      "0           Yes             No                   No               Yes  ...   \n",
      "1           Yes             No                  Yes               Yes  ...   \n",
      "2            No             No                  Yes               Yes  ...   \n",
      "3            No            Yes                   No               Yes  ...   \n",
      "4            No             No                   No               Yes  ...   \n",
      "\n",
      "  Difficulty Swallowing White or Red Patches in Mouth Tumor Size (cm)  \\\n",
      "0                    No                            No        0.000000   \n",
      "1                    No                            No        1.782186   \n",
      "2                    No                           Yes        3.523895   \n",
      "3                    No                            No        0.000000   \n",
      "4                    No                            No        2.834789   \n",
      "\n",
      "  Cancer Stage Treatment Type Survival Rate (5-Year, %)  \\\n",
      "0            0   No Treatment                100.000000   \n",
      "1            1   No Treatment                 83.340103   \n",
      "2            2        Surgery                 63.222871   \n",
      "3            0   No Treatment                100.000000   \n",
      "4            3   No Treatment                 44.293199   \n",
      "\n",
      "  Cost of Treatment (USD)  Economic Burden (Lost Workdays per Year)  \\\n",
      "0                    0.00                                         0   \n",
      "1                77772.50                                       177   \n",
      "2               101164.50                                       130   \n",
      "3                    0.00                                         0   \n",
      "4                45354.75                                        52   \n",
      "\n",
      "   Early Diagnosis Oral Cancer (Diagnosis)  \n",
      "0               No                      No  \n",
      "1               No                     Yes  \n",
      "2              Yes                     Yes  \n",
      "3              Yes                      No  \n",
      "4               No                     Yes  \n",
      "\n",
      "[5 rows x 25 columns]\n"
     ]
    }
   ],
   "source": [
    "# Initialize S3 client\n",
    "s3 = boto3.client('s3')\n",
    "\n",
    "# Specify the bucket name and file key\n",
    "bucket_name = 'bihani-portfolio-project-1'\n",
    "file_key = 'oral_cancer_prediction_dataset.csv'\n",
    "\n",
    "# Get the object from S3\n",
    "csv_obj = s3.get_object(Bucket=bucket_name, Key=file_key)\n",
    "body = csv_obj['Body']\n",
    "csv_string = body.read().decode('utf-8')\n",
    "\n",
    "# Read the CSV into a Pandas DataFrame\n",
    "df = pd.read_csv(io.StringIO(csv_string))\n",
    "\n",
    "# Quick look at the DataFrame\n",
    "print(df.head())"
   ]
  },
  {
   "cell_type": "markdown",
   "metadata": {},
   "source": []
  },
  {
   "cell_type": "code",
   "execution_count": null,
   "metadata": {},
   "outputs": [],
   "source": []
  }
 ],
 "metadata": {
  "kernelspec": {
   "display_name": "base",
   "language": "python",
   "name": "python3"
  },
  "language_info": {
   "codemirror_mode": {
    "name": "ipython",
    "version": 3
   },
   "file_extension": ".py",
   "mimetype": "text/x-python",
   "name": "python",
   "nbconvert_exporter": "python",
   "pygments_lexer": "ipython3",
   "version": "3.12.7"
  }
 },
 "nbformat": 4,
 "nbformat_minor": 2
}
